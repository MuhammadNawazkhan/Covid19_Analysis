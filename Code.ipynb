{
 "cells": [
  {
   "cell_type": "markdown",
   "id": "cc737bc6",
   "metadata": {
    "id": "53b561c9",
    "papermill": {
     "duration": 0.049127,
     "end_time": "2021-11-13T16:02:57.297916",
     "exception": false,
     "start_time": "2021-11-13T16:02:57.248789",
     "status": "completed"
    },
    "tags": []
   },
   "source": [
    "<a id=\"section-one\"></a>\n",
    "**<font color = DarkBlue size = 5>Import related libraries</font>**"
   ]
  },
  {
   "cell_type": "markdown",
   "id": "810f2c4d",
   "metadata": {},
   "source": [
    "First of all we have to import all the needed libraries:\n",
    "\n",
    "\n",
    "- Numpy: a library used for working with arrays. It also has functions for working in domain of linear algebra, fourier transform, and matrices.\n",
    "\n",
    "- Pandas: a library offers data structures and operations for manipulating numerical tables and time series.\n",
    "\n",
    "- Pandas_Profiling: an open source Python library with which we can quickly do an exploratory data analysis with just a few lines of code.\n",
    "\n",
    "- Matplotlib: a plotting library for the Python programming language and its numerical mathematics extension NumPy\n",
    "\n",
    "- Sklearn:Scikit-learn is a free software machine learning library for the Python programming language. \n"
   ]
  },
  {
   "cell_type": "code",
   "execution_count": 2,
   "id": "b44b401f",
   "metadata": {
    "_kg_hide-input": true,
    "_kg_hide-output": false,
    "execution": {
     "iopub.execute_input": "2021-11-13T16:02:57.399987Z",
     "iopub.status.busy": "2021-11-13T16:02:57.399353Z",
     "iopub.status.idle": "2021-11-13T16:03:00.659604Z",
     "shell.execute_reply": "2021-11-13T16:03:00.658702Z",
     "shell.execute_reply.started": "2021-11-10T06:11:22.739199Z"
    },
    "id": "ce13b66b",
    "papermill": {
     "duration": 3.312512,
     "end_time": "2021-11-13T16:03:00.659751",
     "exception": false,
     "start_time": "2021-11-13T16:02:57.347239",
     "status": "completed"
    },
    "tags": []
   },
   "outputs": [],
   "source": [
    "# import libraries\n",
    "import numpy as np\n",
    "import pandas as pd \n",
    "from pandas_profiling import ProfileReport\n",
    "import matplotlib.pyplot as plt\n",
    "from sklearn import metrics\n",
    "from sklearn.model_selection import train_test_split\n",
    "from sklearn.neighbors import KNeighborsClassifier"
   ]
  },
  {
   "cell_type": "markdown",
   "id": "210f6856",
   "metadata": {
    "id": "86dbb2aa",
    "papermill": {
     "duration": 0.105459,
     "end_time": "2021-11-13T16:03:00.815723",
     "exception": false,
     "start_time": "2021-11-13T16:03:00.710264",
     "status": "completed"
    },
    "tags": []
   },
   "source": [
    "<a id=\"section-two\"></a>\n",
    "**<font color = DarkBlue size = 5>Read data and Inspect Data</font>**"
   ]
  },
  {
   "cell_type": "code",
   "execution_count": 3,
   "id": "262f84c3",
   "metadata": {
    "_kg_hide-input": true,
    "execution": {
     "iopub.execute_input": "2021-11-13T16:03:00.919936Z",
     "iopub.status.busy": "2021-11-13T16:03:00.919280Z",
     "iopub.status.idle": "2021-11-13T16:03:01.537486Z",
     "shell.execute_reply": "2021-11-13T16:03:01.538334Z",
     "shell.execute_reply.started": "2021-11-10T06:11:24.87811Z"
    },
    "id": "d2a56ff1",
    "papermill": {
     "duration": 0.672236,
     "end_time": "2021-11-13T16:03:01.538577",
     "exception": false,
     "start_time": "2021-11-13T16:03:00.866341",
     "status": "completed"
    },
    "tags": []
   },
   "outputs": [],
   "source": [
    "#load dataset\n",
    "df = pd.read_csv(\"owid-covid-data.csv\")"
   ]
  },
  {
   "cell_type": "code",
   "execution_count": 4,
   "id": "b0a1ed6d",
   "metadata": {
    "_kg_hide-input": true,
    "_kg_hide-output": false,
    "execution": {
     "iopub.execute_input": "2021-11-13T16:03:01.650136Z",
     "iopub.status.busy": "2021-11-13T16:03:01.649370Z",
     "iopub.status.idle": "2021-11-13T16:03:01.678775Z",
     "shell.execute_reply": "2021-11-13T16:03:01.679309Z",
     "shell.execute_reply.started": "2021-11-10T06:11:25.332154Z"
    },
    "id": "c36fc0c7",
    "papermill": {
     "duration": 0.084118,
     "end_time": "2021-11-13T16:03:01.679493",
     "exception": false,
     "start_time": "2021-11-13T16:03:01.595375",
     "status": "completed"
    },
    "tags": []
   },
   "outputs": [
    {
     "data": {
      "text/html": [
       "<div>\n",
       "<style scoped>\n",
       "    .dataframe tbody tr th:only-of-type {\n",
       "        vertical-align: middle;\n",
       "    }\n",
       "\n",
       "    .dataframe tbody tr th {\n",
       "        vertical-align: top;\n",
       "    }\n",
       "\n",
       "    .dataframe thead th {\n",
       "        text-align: right;\n",
       "    }\n",
       "</style>\n",
       "<table border=\"1\" class=\"dataframe\">\n",
       "  <thead>\n",
       "    <tr style=\"text-align: right;\">\n",
       "      <th></th>\n",
       "      <th>iso_code</th>\n",
       "      <th>continent</th>\n",
       "      <th>location</th>\n",
       "      <th>date</th>\n",
       "      <th>total_cases</th>\n",
       "      <th>new_cases</th>\n",
       "      <th>new_cases_smoothed</th>\n",
       "      <th>total_deaths</th>\n",
       "      <th>new_deaths</th>\n",
       "      <th>new_deaths_smoothed</th>\n",
       "      <th>...</th>\n",
       "      <th>female_smokers</th>\n",
       "      <th>male_smokers</th>\n",
       "      <th>handwashing_facilities</th>\n",
       "      <th>hospital_beds_per_thousand</th>\n",
       "      <th>life_expectancy</th>\n",
       "      <th>human_development_index</th>\n",
       "      <th>excess_mortality_cumulative_absolute</th>\n",
       "      <th>excess_mortality_cumulative</th>\n",
       "      <th>excess_mortality</th>\n",
       "      <th>excess_mortality_cumulative_per_million</th>\n",
       "    </tr>\n",
       "  </thead>\n",
       "  <tbody>\n",
       "    <tr>\n",
       "      <th>0</th>\n",
       "      <td>AFG</td>\n",
       "      <td>Asia</td>\n",
       "      <td>Afghanistan</td>\n",
       "      <td>2020-02-24</td>\n",
       "      <td>5.0</td>\n",
       "      <td>5.0</td>\n",
       "      <td>NaN</td>\n",
       "      <td>NaN</td>\n",
       "      <td>NaN</td>\n",
       "      <td>NaN</td>\n",
       "      <td>...</td>\n",
       "      <td>NaN</td>\n",
       "      <td>NaN</td>\n",
       "      <td>37.746</td>\n",
       "      <td>0.5</td>\n",
       "      <td>64.83</td>\n",
       "      <td>0.511</td>\n",
       "      <td>NaN</td>\n",
       "      <td>NaN</td>\n",
       "      <td>NaN</td>\n",
       "      <td>NaN</td>\n",
       "    </tr>\n",
       "    <tr>\n",
       "      <th>1</th>\n",
       "      <td>AFG</td>\n",
       "      <td>Asia</td>\n",
       "      <td>Afghanistan</td>\n",
       "      <td>2020-02-25</td>\n",
       "      <td>5.0</td>\n",
       "      <td>0.0</td>\n",
       "      <td>NaN</td>\n",
       "      <td>NaN</td>\n",
       "      <td>NaN</td>\n",
       "      <td>NaN</td>\n",
       "      <td>...</td>\n",
       "      <td>NaN</td>\n",
       "      <td>NaN</td>\n",
       "      <td>37.746</td>\n",
       "      <td>0.5</td>\n",
       "      <td>64.83</td>\n",
       "      <td>0.511</td>\n",
       "      <td>NaN</td>\n",
       "      <td>NaN</td>\n",
       "      <td>NaN</td>\n",
       "      <td>NaN</td>\n",
       "    </tr>\n",
       "    <tr>\n",
       "      <th>2</th>\n",
       "      <td>AFG</td>\n",
       "      <td>Asia</td>\n",
       "      <td>Afghanistan</td>\n",
       "      <td>2020-02-26</td>\n",
       "      <td>5.0</td>\n",
       "      <td>0.0</td>\n",
       "      <td>NaN</td>\n",
       "      <td>NaN</td>\n",
       "      <td>NaN</td>\n",
       "      <td>NaN</td>\n",
       "      <td>...</td>\n",
       "      <td>NaN</td>\n",
       "      <td>NaN</td>\n",
       "      <td>37.746</td>\n",
       "      <td>0.5</td>\n",
       "      <td>64.83</td>\n",
       "      <td>0.511</td>\n",
       "      <td>NaN</td>\n",
       "      <td>NaN</td>\n",
       "      <td>NaN</td>\n",
       "      <td>NaN</td>\n",
       "    </tr>\n",
       "    <tr>\n",
       "      <th>3</th>\n",
       "      <td>AFG</td>\n",
       "      <td>Asia</td>\n",
       "      <td>Afghanistan</td>\n",
       "      <td>2020-02-27</td>\n",
       "      <td>5.0</td>\n",
       "      <td>0.0</td>\n",
       "      <td>NaN</td>\n",
       "      <td>NaN</td>\n",
       "      <td>NaN</td>\n",
       "      <td>NaN</td>\n",
       "      <td>...</td>\n",
       "      <td>NaN</td>\n",
       "      <td>NaN</td>\n",
       "      <td>37.746</td>\n",
       "      <td>0.5</td>\n",
       "      <td>64.83</td>\n",
       "      <td>0.511</td>\n",
       "      <td>NaN</td>\n",
       "      <td>NaN</td>\n",
       "      <td>NaN</td>\n",
       "      <td>NaN</td>\n",
       "    </tr>\n",
       "    <tr>\n",
       "      <th>4</th>\n",
       "      <td>AFG</td>\n",
       "      <td>Asia</td>\n",
       "      <td>Afghanistan</td>\n",
       "      <td>2020-02-28</td>\n",
       "      <td>5.0</td>\n",
       "      <td>0.0</td>\n",
       "      <td>NaN</td>\n",
       "      <td>NaN</td>\n",
       "      <td>NaN</td>\n",
       "      <td>NaN</td>\n",
       "      <td>...</td>\n",
       "      <td>NaN</td>\n",
       "      <td>NaN</td>\n",
       "      <td>37.746</td>\n",
       "      <td>0.5</td>\n",
       "      <td>64.83</td>\n",
       "      <td>0.511</td>\n",
       "      <td>NaN</td>\n",
       "      <td>NaN</td>\n",
       "      <td>NaN</td>\n",
       "      <td>NaN</td>\n",
       "    </tr>\n",
       "  </tbody>\n",
       "</table>\n",
       "<p>5 rows × 65 columns</p>\n",
       "</div>"
      ],
      "text/plain": [
       "  iso_code continent     location        date  total_cases  new_cases  \\\n",
       "0      AFG      Asia  Afghanistan  2020-02-24          5.0        5.0   \n",
       "1      AFG      Asia  Afghanistan  2020-02-25          5.0        0.0   \n",
       "2      AFG      Asia  Afghanistan  2020-02-26          5.0        0.0   \n",
       "3      AFG      Asia  Afghanistan  2020-02-27          5.0        0.0   \n",
       "4      AFG      Asia  Afghanistan  2020-02-28          5.0        0.0   \n",
       "\n",
       "   new_cases_smoothed  total_deaths  new_deaths  new_deaths_smoothed  ...  \\\n",
       "0                 NaN           NaN         NaN                  NaN  ...   \n",
       "1                 NaN           NaN         NaN                  NaN  ...   \n",
       "2                 NaN           NaN         NaN                  NaN  ...   \n",
       "3                 NaN           NaN         NaN                  NaN  ...   \n",
       "4                 NaN           NaN         NaN                  NaN  ...   \n",
       "\n",
       "   female_smokers  male_smokers  handwashing_facilities  \\\n",
       "0             NaN           NaN                  37.746   \n",
       "1             NaN           NaN                  37.746   \n",
       "2             NaN           NaN                  37.746   \n",
       "3             NaN           NaN                  37.746   \n",
       "4             NaN           NaN                  37.746   \n",
       "\n",
       "   hospital_beds_per_thousand  life_expectancy  human_development_index  \\\n",
       "0                         0.5            64.83                    0.511   \n",
       "1                         0.5            64.83                    0.511   \n",
       "2                         0.5            64.83                    0.511   \n",
       "3                         0.5            64.83                    0.511   \n",
       "4                         0.5            64.83                    0.511   \n",
       "\n",
       "   excess_mortality_cumulative_absolute  excess_mortality_cumulative  \\\n",
       "0                                   NaN                          NaN   \n",
       "1                                   NaN                          NaN   \n",
       "2                                   NaN                          NaN   \n",
       "3                                   NaN                          NaN   \n",
       "4                                   NaN                          NaN   \n",
       "\n",
       "   excess_mortality  excess_mortality_cumulative_per_million  \n",
       "0               NaN                                      NaN  \n",
       "1               NaN                                      NaN  \n",
       "2               NaN                                      NaN  \n",
       "3               NaN                                      NaN  \n",
       "4               NaN                                      NaN  \n",
       "\n",
       "[5 rows x 65 columns]"
      ]
     },
     "execution_count": 4,
     "metadata": {},
     "output_type": "execute_result"
    }
   ],
   "source": [
    "#Show first five rows of data\n",
    "df.head()"
   ]
  },
  {
   "cell_type": "code",
   "execution_count": 5,
   "id": "fbfd8fcd",
   "metadata": {
    "_kg_hide-input": true,
    "_kg_hide-output": false,
    "execution": {
     "iopub.execute_input": "2021-11-13T16:03:01.787223Z",
     "iopub.status.busy": "2021-11-13T16:03:01.786242Z",
     "iopub.status.idle": "2021-11-13T16:03:01.937245Z",
     "shell.execute_reply": "2021-11-13T16:03:01.937914Z",
     "shell.execute_reply.started": "2021-11-10T06:11:25.357324Z"
    },
    "id": "cd7caa9f",
    "papermill": {
     "duration": 0.207708,
     "end_time": "2021-11-13T16:03:01.938157",
     "exception": false,
     "start_time": "2021-11-13T16:03:01.730449",
     "status": "completed"
    },
    "tags": []
   },
   "outputs": [
    {
     "name": "stdout",
     "output_type": "stream",
     "text": [
      "<class 'pandas.core.frame.DataFrame'>\n",
      "RangeIndex: 132644 entries, 0 to 132643\n",
      "Data columns (total 65 columns):\n",
      " #   Column                                   Non-Null Count   Dtype  \n",
      "---  ------                                   --------------   -----  \n",
      " 0   iso_code                                 132644 non-null  object \n",
      " 1   continent                                124170 non-null  object \n",
      " 2   location                                 132644 non-null  object \n",
      " 3   date                                     132644 non-null  object \n",
      " 4   total_cases                              125410 non-null  float64\n",
      " 5   new_cases                                125408 non-null  float64\n",
      " 6   new_cases_smoothed                       124365 non-null  float64\n",
      " 7   total_deaths                             114293 non-null  float64\n",
      " 8   new_deaths                               114489 non-null  float64\n",
      " 9   new_deaths_smoothed                      124365 non-null  float64\n",
      " 10  total_cases_per_million                  124766 non-null  float64\n",
      " 11  new_cases_per_million                    124764 non-null  float64\n",
      " 12  new_cases_smoothed_per_million           123726 non-null  float64\n",
      " 13  total_deaths_per_million                 113662 non-null  float64\n",
      " 14  new_deaths_per_million                   113858 non-null  float64\n",
      " 15  new_deaths_smoothed_per_million          123726 non-null  float64\n",
      " 16  reproduction_rate                        104426 non-null  float64\n",
      " 17  icu_patients                             15947 non-null   float64\n",
      " 18  icu_patients_per_million                 15947 non-null   float64\n",
      " 19  hosp_patients                            18692 non-null   float64\n",
      " 20  hosp_patients_per_million                18692 non-null   float64\n",
      " 21  weekly_icu_admissions                    1340 non-null    float64\n",
      " 22  weekly_icu_admissions_per_million        1340 non-null    float64\n",
      " 23  weekly_hosp_admissions                   2126 non-null    float64\n",
      " 24  weekly_hosp_admissions_per_million       2126 non-null    float64\n",
      " 25  new_tests                                55090 non-null   float64\n",
      " 26  total_tests                              55345 non-null   float64\n",
      " 27  total_tests_per_thousand                 55345 non-null   float64\n",
      " 28  new_tests_per_thousand                   55090 non-null   float64\n",
      " 29  new_tests_smoothed                       66893 non-null   float64\n",
      " 30  new_tests_smoothed_per_thousand          66893 non-null   float64\n",
      " 31  positive_rate                            62869 non-null   float64\n",
      " 32  tests_per_case                           62209 non-null   float64\n",
      " 33  tests_units                              68912 non-null   object \n",
      " 34  total_vaccinations                       33391 non-null   float64\n",
      " 35  people_vaccinated                        31843 non-null   float64\n",
      " 36  people_fully_vaccinated                  28854 non-null   float64\n",
      " 37  total_boosters                           5855 non-null    float64\n",
      " 38  new_vaccinations                         27787 non-null   float64\n",
      " 39  new_vaccinations_smoothed                59510 non-null   float64\n",
      " 40  total_vaccinations_per_hundred           33391 non-null   float64\n",
      " 41  people_vaccinated_per_hundred            31843 non-null   float64\n",
      " 42  people_fully_vaccinated_per_hundred      28854 non-null   float64\n",
      " 43  total_boosters_per_hundred               5855 non-null    float64\n",
      " 44  new_vaccinations_smoothed_per_million    59510 non-null   float64\n",
      " 45  stringency_index                         108057 non-null  float64\n",
      " 46  population                               131704 non-null  float64\n",
      " 47  population_density                       120074 non-null  float64\n",
      " 48  median_age                               114425 non-null  float64\n",
      " 49  aged_65_older                            113159 non-null  float64\n",
      " 50  aged_70_older                            113800 non-null  float64\n",
      " 51  gdp_per_capita                           115174 non-null  float64\n",
      " 52  extreme_poverty                          77021 non-null   float64\n",
      " 53  cardiovasc_death_rate                    114669 non-null  float64\n",
      " 54  diabetes_prevalence                      118421 non-null  float64\n",
      " 55  female_smokers                           89329 non-null   float64\n",
      " 56  male_smokers                             88037 non-null   float64\n",
      " 57  handwashing_facilities                   57713 non-null   float64\n",
      " 58  hospital_beds_per_thousand               104208 non-null  float64\n",
      " 59  life_expectancy                          123313 non-null  float64\n",
      " 60  human_development_index                  114771 non-null  float64\n",
      " 61  excess_mortality_cumulative_absolute     4656 non-null    float64\n",
      " 62  excess_mortality_cumulative              4656 non-null    float64\n",
      " 63  excess_mortality                         4656 non-null    float64\n",
      " 64  excess_mortality_cumulative_per_million  4656 non-null    float64\n",
      "dtypes: float64(60), object(5)\n",
      "memory usage: 65.8+ MB\n"
     ]
    }
   ],
   "source": [
    "# Information of data\n",
    "df.info()"
   ]
  },
  {
   "cell_type": "code",
   "execution_count": 6,
   "id": "d0edbad1",
   "metadata": {
    "_kg_hide-input": true,
    "_kg_hide-output": false,
    "execution": {
     "iopub.execute_input": "2021-11-13T16:03:02.048994Z",
     "iopub.status.busy": "2021-11-13T16:03:02.048029Z",
     "iopub.status.idle": "2021-11-13T16:03:30.060175Z",
     "shell.execute_reply": "2021-11-13T16:03:30.059606Z",
     "shell.execute_reply.started": "2021-11-10T06:11:25.508748Z"
    },
    "id": "db820c1c",
    "papermill": {
     "duration": 28.070547,
     "end_time": "2021-11-13T16:03:30.060317",
     "exception": false,
     "start_time": "2021-11-13T16:03:01.989770",
     "status": "completed"
    },
    "tags": []
   },
   "outputs": [],
   "source": [
    "# Pandas Profiling\n",
    "rep = ProfileReport(df)\n",
    "rep"
   ]
  },
  {
   "cell_type": "code",
   "execution_count": 7,
   "id": "487350ff",
   "metadata": {
    "id": "810d3be8"
   },
   "outputs": [
    {
     "data": {
      "text/plain": [
       "iso_code                                    object\n",
       "continent                                   object\n",
       "location                                    object\n",
       "date                                        object\n",
       "total_cases                                float64\n",
       "                                            ...   \n",
       "human_development_index                    float64\n",
       "excess_mortality_cumulative_absolute       float64\n",
       "excess_mortality_cumulative                float64\n",
       "excess_mortality                           float64\n",
       "excess_mortality_cumulative_per_million    float64\n",
       "Length: 65, dtype: object"
      ]
     },
     "execution_count": 7,
     "metadata": {},
     "output_type": "execute_result"
    }
   ],
   "source": [
    "# View column data types\n",
    "df.dtypes"
   ]
  },
  {
   "cell_type": "markdown",
   "id": "9786419b",
   "metadata": {},
   "source": [
    "Result:\n",
    "- There are 65 columns of object and float datatypes"
   ]
  },
  {
   "cell_type": "code",
   "execution_count": 8,
   "id": "d19204bd",
   "metadata": {
    "id": "bd424901"
   },
   "outputs": [
    {
     "data": {
      "text/plain": [
       "0"
      ]
     },
     "execution_count": 8,
     "metadata": {},
     "output_type": "execute_result"
    }
   ],
   "source": [
    "# Check Duplicates\n",
    "df.duplicated().sum()"
   ]
  },
  {
   "cell_type": "markdown",
   "id": "6f6c01ee",
   "metadata": {},
   "source": [
    "Result:\n",
    "- Dataset don't contains any duplicate rows.\n"
   ]
  },
  {
   "cell_type": "code",
   "execution_count": 9,
   "id": "ce098b6c",
   "metadata": {
    "id": "1ddcc876"
   },
   "outputs": [
    {
     "data": {
      "text/html": [
       "<div>\n",
       "<style scoped>\n",
       "    .dataframe tbody tr th:only-of-type {\n",
       "        vertical-align: middle;\n",
       "    }\n",
       "\n",
       "    .dataframe tbody tr th {\n",
       "        vertical-align: top;\n",
       "    }\n",
       "\n",
       "    .dataframe thead th {\n",
       "        text-align: right;\n",
       "    }\n",
       "</style>\n",
       "<table border=\"1\" class=\"dataframe\">\n",
       "  <thead>\n",
       "    <tr style=\"text-align: right;\">\n",
       "      <th></th>\n",
       "      <th>iso_code</th>\n",
       "      <th>continent</th>\n",
       "      <th>location</th>\n",
       "      <th>date</th>\n",
       "      <th>total_cases</th>\n",
       "      <th>new_cases</th>\n",
       "      <th>new_cases_smoothed</th>\n",
       "      <th>total_deaths</th>\n",
       "      <th>new_deaths</th>\n",
       "      <th>new_deaths_smoothed</th>\n",
       "      <th>...</th>\n",
       "      <th>female_smokers</th>\n",
       "      <th>male_smokers</th>\n",
       "      <th>handwashing_facilities</th>\n",
       "      <th>hospital_beds_per_thousand</th>\n",
       "      <th>life_expectancy</th>\n",
       "      <th>human_development_index</th>\n",
       "      <th>excess_mortality_cumulative_absolute</th>\n",
       "      <th>excess_mortality_cumulative</th>\n",
       "      <th>excess_mortality</th>\n",
       "      <th>excess_mortality_cumulative_per_million</th>\n",
       "    </tr>\n",
       "  </thead>\n",
       "  <tbody>\n",
       "    <tr>\n",
       "      <th>count</th>\n",
       "      <td>132644</td>\n",
       "      <td>124170</td>\n",
       "      <td>132644</td>\n",
       "      <td>132644</td>\n",
       "      <td>1.254100e+05</td>\n",
       "      <td>125408.000000</td>\n",
       "      <td>124365.000000</td>\n",
       "      <td>1.142930e+05</td>\n",
       "      <td>114489.000000</td>\n",
       "      <td>124365.000000</td>\n",
       "      <td>...</td>\n",
       "      <td>89329.000000</td>\n",
       "      <td>88037.000000</td>\n",
       "      <td>57713.000000</td>\n",
       "      <td>104208.000000</td>\n",
       "      <td>123313.000000</td>\n",
       "      <td>114771.000000</td>\n",
       "      <td>4656.000000</td>\n",
       "      <td>4656.000000</td>\n",
       "      <td>4656.000000</td>\n",
       "      <td>4656.000000</td>\n",
       "    </tr>\n",
       "    <tr>\n",
       "      <th>unique</th>\n",
       "      <td>237</td>\n",
       "      <td>6</td>\n",
       "      <td>237</td>\n",
       "      <td>681</td>\n",
       "      <td>NaN</td>\n",
       "      <td>NaN</td>\n",
       "      <td>NaN</td>\n",
       "      <td>NaN</td>\n",
       "      <td>NaN</td>\n",
       "      <td>NaN</td>\n",
       "      <td>...</td>\n",
       "      <td>NaN</td>\n",
       "      <td>NaN</td>\n",
       "      <td>NaN</td>\n",
       "      <td>NaN</td>\n",
       "      <td>NaN</td>\n",
       "      <td>NaN</td>\n",
       "      <td>NaN</td>\n",
       "      <td>NaN</td>\n",
       "      <td>NaN</td>\n",
       "      <td>NaN</td>\n",
       "    </tr>\n",
       "    <tr>\n",
       "      <th>top</th>\n",
       "      <td>ARG</td>\n",
       "      <td>Africa</td>\n",
       "      <td>Peru</td>\n",
       "      <td>2021-07-14</td>\n",
       "      <td>NaN</td>\n",
       "      <td>NaN</td>\n",
       "      <td>NaN</td>\n",
       "      <td>NaN</td>\n",
       "      <td>NaN</td>\n",
       "      <td>NaN</td>\n",
       "      <td>...</td>\n",
       "      <td>NaN</td>\n",
       "      <td>NaN</td>\n",
       "      <td>NaN</td>\n",
       "      <td>NaN</td>\n",
       "      <td>NaN</td>\n",
       "      <td>NaN</td>\n",
       "      <td>NaN</td>\n",
       "      <td>NaN</td>\n",
       "      <td>NaN</td>\n",
       "      <td>NaN</td>\n",
       "    </tr>\n",
       "    <tr>\n",
       "      <th>freq</th>\n",
       "      <td>681</td>\n",
       "      <td>32809</td>\n",
       "      <td>681</td>\n",
       "      <td>234</td>\n",
       "      <td>NaN</td>\n",
       "      <td>NaN</td>\n",
       "      <td>NaN</td>\n",
       "      <td>NaN</td>\n",
       "      <td>NaN</td>\n",
       "      <td>NaN</td>\n",
       "      <td>...</td>\n",
       "      <td>NaN</td>\n",
       "      <td>NaN</td>\n",
       "      <td>NaN</td>\n",
       "      <td>NaN</td>\n",
       "      <td>NaN</td>\n",
       "      <td>NaN</td>\n",
       "      <td>NaN</td>\n",
       "      <td>NaN</td>\n",
       "      <td>NaN</td>\n",
       "      <td>NaN</td>\n",
       "    </tr>\n",
       "    <tr>\n",
       "      <th>mean</th>\n",
       "      <td>NaN</td>\n",
       "      <td>NaN</td>\n",
       "      <td>NaN</td>\n",
       "      <td>NaN</td>\n",
       "      <td>2.038985e+06</td>\n",
       "      <td>8353.112888</td>\n",
       "      <td>8370.887531</td>\n",
       "      <td>5.045250e+04</td>\n",
       "      <td>184.004114</td>\n",
       "      <td>168.641989</td>\n",
       "      <td>...</td>\n",
       "      <td>10.589701</td>\n",
       "      <td>32.748528</td>\n",
       "      <td>50.865182</td>\n",
       "      <td>3.029443</td>\n",
       "      <td>73.260475</td>\n",
       "      <td>0.726207</td>\n",
       "      <td>32052.628565</td>\n",
       "      <td>8.667889</td>\n",
       "      <td>15.883224</td>\n",
       "      <td>781.114218</td>\n",
       "    </tr>\n",
       "    <tr>\n",
       "      <th>std</th>\n",
       "      <td>NaN</td>\n",
       "      <td>NaN</td>\n",
       "      <td>NaN</td>\n",
       "      <td>NaN</td>\n",
       "      <td>1.163910e+07</td>\n",
       "      <td>43547.802492</td>\n",
       "      <td>43035.659063</td>\n",
       "      <td>2.589636e+05</td>\n",
       "      <td>871.591559</td>\n",
       "      <td>817.796127</td>\n",
       "      <td>...</td>\n",
       "      <td>10.502683</td>\n",
       "      <td>13.512865</td>\n",
       "      <td>31.821458</td>\n",
       "      <td>2.455593</td>\n",
       "      <td>7.532205</td>\n",
       "      <td>0.150042</td>\n",
       "      <td>90422.651800</td>\n",
       "      <td>15.939853</td>\n",
       "      <td>31.062810</td>\n",
       "      <td>1166.907295</td>\n",
       "    </tr>\n",
       "    <tr>\n",
       "      <th>min</th>\n",
       "      <td>NaN</td>\n",
       "      <td>NaN</td>\n",
       "      <td>NaN</td>\n",
       "      <td>NaN</td>\n",
       "      <td>1.000000e+00</td>\n",
       "      <td>-74347.000000</td>\n",
       "      <td>-6223.000000</td>\n",
       "      <td>1.000000e+00</td>\n",
       "      <td>-1918.000000</td>\n",
       "      <td>-232.143000</td>\n",
       "      <td>...</td>\n",
       "      <td>0.100000</td>\n",
       "      <td>7.700000</td>\n",
       "      <td>1.188000</td>\n",
       "      <td>0.100000</td>\n",
       "      <td>53.280000</td>\n",
       "      <td>0.394000</td>\n",
       "      <td>-31959.400000</td>\n",
       "      <td>-27.350000</td>\n",
       "      <td>-95.920000</td>\n",
       "      <td>-1749.128494</td>\n",
       "    </tr>\n",
       "    <tr>\n",
       "      <th>25%</th>\n",
       "      <td>NaN</td>\n",
       "      <td>NaN</td>\n",
       "      <td>NaN</td>\n",
       "      <td>NaN</td>\n",
       "      <td>2.388000e+03</td>\n",
       "      <td>3.000000</td>\n",
       "      <td>10.286000</td>\n",
       "      <td>8.000000e+01</td>\n",
       "      <td>0.000000</td>\n",
       "      <td>0.143000</td>\n",
       "      <td>...</td>\n",
       "      <td>1.900000</td>\n",
       "      <td>21.600000</td>\n",
       "      <td>20.859000</td>\n",
       "      <td>1.300000</td>\n",
       "      <td>67.920000</td>\n",
       "      <td>0.602000</td>\n",
       "      <td>-167.750000</td>\n",
       "      <td>-0.972500</td>\n",
       "      <td>-0.835000</td>\n",
       "      <td>-43.100925</td>\n",
       "    </tr>\n",
       "    <tr>\n",
       "      <th>50%</th>\n",
       "      <td>NaN</td>\n",
       "      <td>NaN</td>\n",
       "      <td>NaN</td>\n",
       "      <td>NaN</td>\n",
       "      <td>2.714850e+04</td>\n",
       "      <td>104.000000</td>\n",
       "      <td>130.143000</td>\n",
       "      <td>7.410000e+02</td>\n",
       "      <td>2.000000</td>\n",
       "      <td>2.000000</td>\n",
       "      <td>...</td>\n",
       "      <td>6.300000</td>\n",
       "      <td>31.400000</td>\n",
       "      <td>49.839000</td>\n",
       "      <td>2.400000</td>\n",
       "      <td>74.620000</td>\n",
       "      <td>0.744000</td>\n",
       "      <td>2315.900000</td>\n",
       "      <td>5.215000</td>\n",
       "      <td>6.465000</td>\n",
       "      <td>364.906628</td>\n",
       "    </tr>\n",
       "    <tr>\n",
       "      <th>75%</th>\n",
       "      <td>NaN</td>\n",
       "      <td>NaN</td>\n",
       "      <td>NaN</td>\n",
       "      <td>NaN</td>\n",
       "      <td>2.641010e+05</td>\n",
       "      <td>1077.000000</td>\n",
       "      <td>1133.429000</td>\n",
       "      <td>6.468000e+03</td>\n",
       "      <td>22.000000</td>\n",
       "      <td>18.571000</td>\n",
       "      <td>...</td>\n",
       "      <td>19.300000</td>\n",
       "      <td>41.300000</td>\n",
       "      <td>83.241000</td>\n",
       "      <td>4.000000</td>\n",
       "      <td>78.740000</td>\n",
       "      <td>0.845000</td>\n",
       "      <td>20475.200000</td>\n",
       "      <td>13.580000</td>\n",
       "      <td>22.300000</td>\n",
       "      <td>1351.300112</td>\n",
       "    </tr>\n",
       "    <tr>\n",
       "      <th>max</th>\n",
       "      <td>NaN</td>\n",
       "      <td>NaN</td>\n",
       "      <td>NaN</td>\n",
       "      <td>NaN</td>\n",
       "      <td>2.519418e+08</td>\n",
       "      <td>907963.000000</td>\n",
       "      <td>826457.571000</td>\n",
       "      <td>5.079990e+06</td>\n",
       "      <td>18007.000000</td>\n",
       "      <td>14703.286000</td>\n",
       "      <td>...</td>\n",
       "      <td>44.000000</td>\n",
       "      <td>78.100000</td>\n",
       "      <td>100.000000</td>\n",
       "      <td>13.800000</td>\n",
       "      <td>86.750000</td>\n",
       "      <td>0.957000</td>\n",
       "      <td>870830.300000</td>\n",
       "      <td>106.840000</td>\n",
       "      <td>373.610000</td>\n",
       "      <td>6157.832804</td>\n",
       "    </tr>\n",
       "  </tbody>\n",
       "</table>\n",
       "<p>11 rows × 65 columns</p>\n",
       "</div>"
      ],
      "text/plain": [
       "       iso_code continent location        date   total_cases      new_cases  \\\n",
       "count    132644    124170   132644      132644  1.254100e+05  125408.000000   \n",
       "unique      237         6      237         681           NaN            NaN   \n",
       "top         ARG    Africa     Peru  2021-07-14           NaN            NaN   \n",
       "freq        681     32809      681         234           NaN            NaN   \n",
       "mean        NaN       NaN      NaN         NaN  2.038985e+06    8353.112888   \n",
       "std         NaN       NaN      NaN         NaN  1.163910e+07   43547.802492   \n",
       "min         NaN       NaN      NaN         NaN  1.000000e+00  -74347.000000   \n",
       "25%         NaN       NaN      NaN         NaN  2.388000e+03       3.000000   \n",
       "50%         NaN       NaN      NaN         NaN  2.714850e+04     104.000000   \n",
       "75%         NaN       NaN      NaN         NaN  2.641010e+05    1077.000000   \n",
       "max         NaN       NaN      NaN         NaN  2.519418e+08  907963.000000   \n",
       "\n",
       "        new_cases_smoothed  total_deaths     new_deaths  new_deaths_smoothed  \\\n",
       "count        124365.000000  1.142930e+05  114489.000000        124365.000000   \n",
       "unique                 NaN           NaN            NaN                  NaN   \n",
       "top                    NaN           NaN            NaN                  NaN   \n",
       "freq                   NaN           NaN            NaN                  NaN   \n",
       "mean           8370.887531  5.045250e+04     184.004114           168.641989   \n",
       "std           43035.659063  2.589636e+05     871.591559           817.796127   \n",
       "min           -6223.000000  1.000000e+00   -1918.000000          -232.143000   \n",
       "25%              10.286000  8.000000e+01       0.000000             0.143000   \n",
       "50%             130.143000  7.410000e+02       2.000000             2.000000   \n",
       "75%            1133.429000  6.468000e+03      22.000000            18.571000   \n",
       "max          826457.571000  5.079990e+06   18007.000000         14703.286000   \n",
       "\n",
       "        ...  female_smokers  male_smokers  handwashing_facilities  \\\n",
       "count   ...    89329.000000  88037.000000            57713.000000   \n",
       "unique  ...             NaN           NaN                     NaN   \n",
       "top     ...             NaN           NaN                     NaN   \n",
       "freq    ...             NaN           NaN                     NaN   \n",
       "mean    ...       10.589701     32.748528               50.865182   \n",
       "std     ...       10.502683     13.512865               31.821458   \n",
       "min     ...        0.100000      7.700000                1.188000   \n",
       "25%     ...        1.900000     21.600000               20.859000   \n",
       "50%     ...        6.300000     31.400000               49.839000   \n",
       "75%     ...       19.300000     41.300000               83.241000   \n",
       "max     ...       44.000000     78.100000              100.000000   \n",
       "\n",
       "        hospital_beds_per_thousand  life_expectancy  human_development_index  \\\n",
       "count                104208.000000    123313.000000            114771.000000   \n",
       "unique                         NaN              NaN                      NaN   \n",
       "top                            NaN              NaN                      NaN   \n",
       "freq                           NaN              NaN                      NaN   \n",
       "mean                      3.029443        73.260475                 0.726207   \n",
       "std                       2.455593         7.532205                 0.150042   \n",
       "min                       0.100000        53.280000                 0.394000   \n",
       "25%                       1.300000        67.920000                 0.602000   \n",
       "50%                       2.400000        74.620000                 0.744000   \n",
       "75%                       4.000000        78.740000                 0.845000   \n",
       "max                      13.800000        86.750000                 0.957000   \n",
       "\n",
       "        excess_mortality_cumulative_absolute  excess_mortality_cumulative  \\\n",
       "count                            4656.000000                  4656.000000   \n",
       "unique                                   NaN                          NaN   \n",
       "top                                      NaN                          NaN   \n",
       "freq                                     NaN                          NaN   \n",
       "mean                            32052.628565                     8.667889   \n",
       "std                             90422.651800                    15.939853   \n",
       "min                            -31959.400000                   -27.350000   \n",
       "25%                              -167.750000                    -0.972500   \n",
       "50%                              2315.900000                     5.215000   \n",
       "75%                             20475.200000                    13.580000   \n",
       "max                            870830.300000                   106.840000   \n",
       "\n",
       "        excess_mortality  excess_mortality_cumulative_per_million  \n",
       "count        4656.000000                              4656.000000  \n",
       "unique               NaN                                      NaN  \n",
       "top                  NaN                                      NaN  \n",
       "freq                 NaN                                      NaN  \n",
       "mean           15.883224                               781.114218  \n",
       "std            31.062810                              1166.907295  \n",
       "min           -95.920000                             -1749.128494  \n",
       "25%            -0.835000                               -43.100925  \n",
       "50%             6.465000                               364.906628  \n",
       "75%            22.300000                              1351.300112  \n",
       "max           373.610000                              6157.832804  \n",
       "\n",
       "[11 rows x 65 columns]"
      ]
     },
     "execution_count": 9,
     "metadata": {},
     "output_type": "execute_result"
    }
   ],
   "source": [
    "# Get statistical data about each column\n",
    "df.describe(include=\"all\") "
   ]
  },
  {
   "cell_type": "markdown",
   "id": "0641293e",
   "metadata": {},
   "source": [
    "Result:\n",
    "- Dataset contains 65 columns and almost each column conatins NaN\n"
   ]
  },
  {
   "cell_type": "code",
   "execution_count": 10,
   "id": "f677f1c7",
   "metadata": {
    "id": "0545db6f"
   },
   "outputs": [],
   "source": [
    "# Draw Histogram to show distribution of data for each feature\n",
    "df.hist(figsize=(35,35))\n",
    "plt.suptitle('Histograms', fontsize=18);\n",
    "plt.savefig(\"Histogram.png\")"
   ]
  },
  {
   "cell_type": "markdown",
   "id": "17b39b6d",
   "metadata": {},
   "source": [
    "Result:\n",
    "- A Histogram of all the 65 columns\n"
   ]
  },
  {
   "cell_type": "code",
   "execution_count": 12,
   "id": "30697c8b",
   "metadata": {
    "id": "70ce0aef"
   },
   "outputs": [],
   "source": [
    "#copy dataset into another variable\n",
    "df_original=df"
   ]
  },
  {
   "cell_type": "code",
   "execution_count": 13,
   "id": "8d810f5f",
   "metadata": {
    "id": "f0297ca2"
   },
   "outputs": [],
   "source": [
    "#copy dataset bcz sometime we have to again start from this point \n",
    "df=df_original"
   ]
  },
  {
   "cell_type": "code",
   "execution_count": 11,
   "id": "afaaaa96",
   "metadata": {
    "id": "358cada6"
   },
   "outputs": [
    {
     "data": {
      "text/plain": [
       "iso_code                                    object\n",
       "continent                                   object\n",
       "location                                    object\n",
       "date                                        object\n",
       "total_cases                                float64\n",
       "                                            ...   \n",
       "human_development_index                    float64\n",
       "excess_mortality_cumulative_absolute       float64\n",
       "excess_mortality_cumulative                float64\n",
       "excess_mortality                           float64\n",
       "excess_mortality_cumulative_per_million    float64\n",
       "Length: 65, dtype: object"
      ]
     },
     "execution_count": 11,
     "metadata": {},
     "output_type": "execute_result"
    }
   ],
   "source": [
    "df.dtypes"
   ]
  },
  {
   "cell_type": "markdown",
   "id": "3a56ea9d",
   "metadata": {},
   "source": [
    "Result:\n",
    "- Dataset have different data types\n"
   ]
  },
  {
   "cell_type": "code",
   "execution_count": 12,
   "id": "a025fed9",
   "metadata": {
    "colab": {
     "base_uri": "https://localhost:8080/"
    },
    "executionInfo": {
     "elapsed": 426,
     "status": "ok",
     "timestamp": 1636988353275,
     "user": {
      "displayName": "Arsalan Azhar",
      "photoUrl": "https://lh3.googleusercontent.com/a/default-user=s64",
      "userId": "03163103775440367043"
     },
     "user_tz": -300
    },
    "id": "846fb8b6",
    "outputId": "cdb1515e-e8b4-4b21-d37d-74a86aa375be"
   },
   "outputs": [
    {
     "data": {
      "text/plain": [
       "(132644, 64)"
      ]
     },
     "execution_count": 12,
     "metadata": {},
     "output_type": "execute_result"
    }
   ],
   "source": [
    "# we don't need this column because we will follow number of rows for time and date\n",
    "df=df.drop('date', axis=1)\n",
    "df.shape"
   ]
  },
  {
   "cell_type": "markdown",
   "id": "fc700e68",
   "metadata": {},
   "source": [
    "Result:\n",
    "- After droping the column 'date' we have 132644 rows and 64 columns \n"
   ]
  },
  {
   "cell_type": "code",
   "execution_count": 13,
   "id": "2f6106ec",
   "metadata": {
    "colab": {
     "base_uri": "https://localhost:8080/"
    },
    "executionInfo": {
     "elapsed": 17,
     "status": "ok",
     "timestamp": 1636988355349,
     "user": {
      "displayName": "Arsalan Azhar",
      "photoUrl": "https://lh3.googleusercontent.com/a/default-user=s64",
      "userId": "03163103775440367043"
     },
     "user_tz": -300
    },
    "id": "10c7d4eb",
    "outputId": "75937e2d-df58-4617-b64a-dd0852865407"
   },
   "outputs": [
    {
     "data": {
      "text/plain": [
       "(132644, 63)"
      ]
     },
     "execution_count": 13,
     "metadata": {},
     "output_type": "execute_result"
    }
   ],
   "source": [
    "# remove this colum also\n",
    "df=df.drop('location', axis=1)\n",
    "df.shape"
   ]
  },
  {
   "cell_type": "markdown",
   "id": "66b7ea6d",
   "metadata": {},
   "source": [
    "Result:\n",
    "- After droping the column 'location' we have 132644 rows and 63 columns \n"
   ]
  },
  {
   "cell_type": "code",
   "execution_count": 14,
   "id": "a2029901",
   "metadata": {
    "colab": {
     "base_uri": "https://localhost:8080/"
    },
    "executionInfo": {
     "elapsed": 636,
     "status": "ok",
     "timestamp": 1636988357601,
     "user": {
      "displayName": "Arsalan Azhar",
      "photoUrl": "https://lh3.googleusercontent.com/a/default-user=s64",
      "userId": "03163103775440367043"
     },
     "user_tz": -300
    },
    "id": "73a778a3",
    "outputId": "8a33d5dc-f9f2-4c08-8d72-423d3da5edb7"
   },
   "outputs": [
    {
     "data": {
      "text/plain": [
       "(132644, 62)"
      ]
     },
     "execution_count": 14,
     "metadata": {},
     "output_type": "execute_result"
    }
   ],
   "source": [
    "# remove this colum also\n",
    "df=df.drop('continent', axis=1)\n",
    "df.shape"
   ]
  },
  {
   "cell_type": "markdown",
   "id": "172b0b84",
   "metadata": {},
   "source": [
    "Result:\n",
    "- After droping the column 'continent' we have 132644 rows and 62 columns \n"
   ]
  },
  {
   "cell_type": "code",
   "execution_count": 15,
   "id": "d31494d5",
   "metadata": {
    "colab": {
     "base_uri": "https://localhost:8080/"
    },
    "executionInfo": {
     "elapsed": 11,
     "status": "ok",
     "timestamp": 1636988359906,
     "user": {
      "displayName": "Arsalan Azhar",
      "photoUrl": "https://lh3.googleusercontent.com/a/default-user=s64",
      "userId": "03163103775440367043"
     },
     "user_tz": -300
    },
    "id": "7f039cac",
    "outputId": "82d35491-ba57-4b4c-96f5-9b4012972931"
   },
   "outputs": [
    {
     "data": {
      "text/plain": [
       "(132644, 61)"
      ]
     },
     "execution_count": 15,
     "metadata": {},
     "output_type": "execute_result"
    }
   ],
   "source": [
    "# remove this colum also\n",
    "df=df.drop('iso_code', axis=1)\n",
    "df.shape"
   ]
  },
  {
   "cell_type": "markdown",
   "id": "6c363746",
   "metadata": {},
   "source": [
    "Result:\n",
    "- After droping the column 'iso-code' we have 132644 rows and 61 columns \n"
   ]
  },
  {
   "cell_type": "code",
   "execution_count": 16,
   "id": "53567976",
   "metadata": {
    "colab": {
     "base_uri": "https://localhost:8080/"
    },
    "executionInfo": {
     "elapsed": 20,
     "status": "ok",
     "timestamp": 1636988363035,
     "user": {
      "displayName": "Arsalan Azhar",
      "photoUrl": "https://lh3.googleusercontent.com/a/default-user=s64",
      "userId": "03163103775440367043"
     },
     "user_tz": -300
    },
    "id": "9a0c4e1a",
    "outputId": "c2fa0949-a4fa-4e33-ee79-9d02c61ef1c8"
   },
   "outputs": [
    {
     "data": {
      "text/plain": [
       "(132644, 60)"
      ]
     },
     "execution_count": 16,
     "metadata": {},
     "output_type": "execute_result"
    }
   ],
   "source": [
    "# remove this colum also\n",
    "df=df.drop('tests_units', axis=1)\n",
    "df.shape"
   ]
  },
  {
   "cell_type": "markdown",
   "id": "f1e418d5",
   "metadata": {},
   "source": [
    "Result:\n",
    "- After droping the column 'tests_units' we have 132644 rows and 60 columns \n"
   ]
  },
  {
   "cell_type": "code",
   "execution_count": 17,
   "id": "9e08fe46",
   "metadata": {
    "id": "e583b410"
   },
   "outputs": [
    {
     "name": "stdout",
     "output_type": "stream",
     "text": [
      "<class 'pandas.core.frame.DataFrame'>\n",
      "RangeIndex: 132644 entries, 0 to 132643\n",
      "Data columns (total 60 columns):\n",
      " #   Column                                   Non-Null Count   Dtype  \n",
      "---  ------                                   --------------   -----  \n",
      " 0   total_cases                              125410 non-null  float64\n",
      " 1   new_cases                                125408 non-null  float64\n",
      " 2   new_cases_smoothed                       124365 non-null  float64\n",
      " 3   total_deaths                             114293 non-null  float64\n",
      " 4   new_deaths                               114489 non-null  float64\n",
      " 5   new_deaths_smoothed                      124365 non-null  float64\n",
      " 6   total_cases_per_million                  124766 non-null  float64\n",
      " 7   new_cases_per_million                    124764 non-null  float64\n",
      " 8   new_cases_smoothed_per_million           123726 non-null  float64\n",
      " 9   total_deaths_per_million                 113662 non-null  float64\n",
      " 10  new_deaths_per_million                   113858 non-null  float64\n",
      " 11  new_deaths_smoothed_per_million          123726 non-null  float64\n",
      " 12  reproduction_rate                        104426 non-null  float64\n",
      " 13  icu_patients                             15947 non-null   float64\n",
      " 14  icu_patients_per_million                 15947 non-null   float64\n",
      " 15  hosp_patients                            18692 non-null   float64\n",
      " 16  hosp_patients_per_million                18692 non-null   float64\n",
      " 17  weekly_icu_admissions                    1340 non-null    float64\n",
      " 18  weekly_icu_admissions_per_million        1340 non-null    float64\n",
      " 19  weekly_hosp_admissions                   2126 non-null    float64\n",
      " 20  weekly_hosp_admissions_per_million       2126 non-null    float64\n",
      " 21  new_tests                                55090 non-null   float64\n",
      " 22  total_tests                              55345 non-null   float64\n",
      " 23  total_tests_per_thousand                 55345 non-null   float64\n",
      " 24  new_tests_per_thousand                   55090 non-null   float64\n",
      " 25  new_tests_smoothed                       66893 non-null   float64\n",
      " 26  new_tests_smoothed_per_thousand          66893 non-null   float64\n",
      " 27  positive_rate                            62869 non-null   float64\n",
      " 28  tests_per_case                           62209 non-null   float64\n",
      " 29  total_vaccinations                       33391 non-null   float64\n",
      " 30  people_vaccinated                        31843 non-null   float64\n",
      " 31  people_fully_vaccinated                  28854 non-null   float64\n",
      " 32  total_boosters                           5855 non-null    float64\n",
      " 33  new_vaccinations                         27787 non-null   float64\n",
      " 34  new_vaccinations_smoothed                59510 non-null   float64\n",
      " 35  total_vaccinations_per_hundred           33391 non-null   float64\n",
      " 36  people_vaccinated_per_hundred            31843 non-null   float64\n",
      " 37  people_fully_vaccinated_per_hundred      28854 non-null   float64\n",
      " 38  total_boosters_per_hundred               5855 non-null    float64\n",
      " 39  new_vaccinations_smoothed_per_million    59510 non-null   float64\n",
      " 40  stringency_index                         108057 non-null  float64\n",
      " 41  population                               131704 non-null  float64\n",
      " 42  population_density                       120074 non-null  float64\n",
      " 43  median_age                               114425 non-null  float64\n",
      " 44  aged_65_older                            113159 non-null  float64\n",
      " 45  aged_70_older                            113800 non-null  float64\n",
      " 46  gdp_per_capita                           115174 non-null  float64\n",
      " 47  extreme_poverty                          77021 non-null   float64\n",
      " 48  cardiovasc_death_rate                    114669 non-null  float64\n",
      " 49  diabetes_prevalence                      118421 non-null  float64\n",
      " 50  female_smokers                           89329 non-null   float64\n",
      " 51  male_smokers                             88037 non-null   float64\n",
      " 52  handwashing_facilities                   57713 non-null   float64\n",
      " 53  hospital_beds_per_thousand               104208 non-null  float64\n",
      " 54  life_expectancy                          123313 non-null  float64\n",
      " 55  human_development_index                  114771 non-null  float64\n",
      " 56  excess_mortality_cumulative_absolute     4656 non-null    float64\n",
      " 57  excess_mortality_cumulative              4656 non-null    float64\n",
      " 58  excess_mortality                         4656 non-null    float64\n",
      " 59  excess_mortality_cumulative_per_million  4656 non-null    float64\n",
      "dtypes: float64(60)\n",
      "memory usage: 60.7 MB\n"
     ]
    }
   ],
   "source": [
    "df.info()"
   ]
  },
  {
   "cell_type": "code",
   "execution_count": 18,
   "id": "4f8621e1",
   "metadata": {
    "id": "78046ac5"
   },
   "outputs": [
    {
     "data": {
      "text/plain": [
       "total_cases                                float64\n",
       "new_cases                                  float64\n",
       "new_cases_smoothed                         float64\n",
       "total_deaths                               float64\n",
       "new_deaths                                 float64\n",
       "new_deaths_smoothed                        float64\n",
       "total_cases_per_million                    float64\n",
       "new_cases_per_million                      float64\n",
       "new_cases_smoothed_per_million             float64\n",
       "total_deaths_per_million                   float64\n",
       "new_deaths_per_million                     float64\n",
       "new_deaths_smoothed_per_million            float64\n",
       "reproduction_rate                          float64\n",
       "icu_patients                               float64\n",
       "icu_patients_per_million                   float64\n",
       "hosp_patients                              float64\n",
       "hosp_patients_per_million                  float64\n",
       "weekly_icu_admissions                      float64\n",
       "weekly_icu_admissions_per_million          float64\n",
       "weekly_hosp_admissions                     float64\n",
       "weekly_hosp_admissions_per_million         float64\n",
       "new_tests                                  float64\n",
       "total_tests                                float64\n",
       "total_tests_per_thousand                   float64\n",
       "new_tests_per_thousand                     float64\n",
       "new_tests_smoothed                         float64\n",
       "new_tests_smoothed_per_thousand            float64\n",
       "positive_rate                              float64\n",
       "tests_per_case                             float64\n",
       "total_vaccinations                         float64\n",
       "people_vaccinated                          float64\n",
       "people_fully_vaccinated                    float64\n",
       "total_boosters                             float64\n",
       "new_vaccinations                           float64\n",
       "new_vaccinations_smoothed                  float64\n",
       "total_vaccinations_per_hundred             float64\n",
       "people_vaccinated_per_hundred              float64\n",
       "people_fully_vaccinated_per_hundred        float64\n",
       "total_boosters_per_hundred                 float64\n",
       "new_vaccinations_smoothed_per_million      float64\n",
       "stringency_index                           float64\n",
       "population                                 float64\n",
       "population_density                         float64\n",
       "median_age                                 float64\n",
       "aged_65_older                              float64\n",
       "aged_70_older                              float64\n",
       "gdp_per_capita                             float64\n",
       "extreme_poverty                            float64\n",
       "cardiovasc_death_rate                      float64\n",
       "diabetes_prevalence                        float64\n",
       "female_smokers                             float64\n",
       "male_smokers                               float64\n",
       "handwashing_facilities                     float64\n",
       "hospital_beds_per_thousand                 float64\n",
       "life_expectancy                            float64\n",
       "human_development_index                    float64\n",
       "excess_mortality_cumulative_absolute       float64\n",
       "excess_mortality_cumulative                float64\n",
       "excess_mortality                           float64\n",
       "excess_mortality_cumulative_per_million    float64\n",
       "dtype: object"
      ]
     },
     "execution_count": 18,
     "metadata": {},
     "output_type": "execute_result"
    }
   ],
   "source": [
    "df.dtypes"
   ]
  },
  {
   "cell_type": "code",
   "execution_count": 19,
   "id": "1d092f21",
   "metadata": {
    "colab": {
     "base_uri": "https://localhost:8080/"
    },
    "executionInfo": {
     "elapsed": 408,
     "status": "ok",
     "timestamp": 1636988370293,
     "user": {
      "displayName": "Arsalan Azhar",
      "photoUrl": "https://lh3.googleusercontent.com/a/default-user=s64",
      "userId": "03163103775440367043"
     },
     "user_tz": -300
    },
    "id": "zMGkxqrDuMyo",
    "outputId": "381478d7-9dde-489e-9258-f219aa6ab1e6"
   },
   "outputs": [
    {
     "data": {
      "text/plain": [
       "total_cases                                  7234\n",
       "new_cases                                    7236\n",
       "new_cases_smoothed                           8279\n",
       "total_deaths                                18351\n",
       "new_deaths                                  18155\n",
       "new_deaths_smoothed                          8279\n",
       "total_cases_per_million                      7878\n",
       "new_cases_per_million                        7880\n",
       "new_cases_smoothed_per_million               8918\n",
       "total_deaths_per_million                    18982\n",
       "new_deaths_per_million                      18786\n",
       "new_deaths_smoothed_per_million              8918\n",
       "reproduction_rate                           28218\n",
       "icu_patients                               116697\n",
       "icu_patients_per_million                   116697\n",
       "hosp_patients                              113952\n",
       "hosp_patients_per_million                  113952\n",
       "weekly_icu_admissions                      131304\n",
       "weekly_icu_admissions_per_million          131304\n",
       "weekly_hosp_admissions                     130518\n",
       "weekly_hosp_admissions_per_million         130518\n",
       "new_tests                                   77554\n",
       "total_tests                                 77299\n",
       "total_tests_per_thousand                    77299\n",
       "new_tests_per_thousand                      77554\n",
       "new_tests_smoothed                          65751\n",
       "new_tests_smoothed_per_thousand             65751\n",
       "positive_rate                               69775\n",
       "tests_per_case                              70435\n",
       "total_vaccinations                          99253\n",
       "people_vaccinated                          100801\n",
       "people_fully_vaccinated                    103790\n",
       "total_boosters                             126789\n",
       "new_vaccinations                           104857\n",
       "new_vaccinations_smoothed                   73134\n",
       "total_vaccinations_per_hundred              99253\n",
       "people_vaccinated_per_hundred              100801\n",
       "people_fully_vaccinated_per_hundred        103790\n",
       "total_boosters_per_hundred                 126789\n",
       "new_vaccinations_smoothed_per_million       73134\n",
       "stringency_index                            24587\n",
       "population                                    940\n",
       "population_density                          12570\n",
       "median_age                                  18219\n",
       "aged_65_older                               19485\n",
       "aged_70_older                               18844\n",
       "gdp_per_capita                              17470\n",
       "extreme_poverty                             55623\n",
       "cardiovasc_death_rate                       17975\n",
       "diabetes_prevalence                         14223\n",
       "female_smokers                              43315\n",
       "male_smokers                                44607\n",
       "handwashing_facilities                      74931\n",
       "hospital_beds_per_thousand                  28436\n",
       "life_expectancy                              9331\n",
       "human_development_index                     17873\n",
       "excess_mortality_cumulative_absolute       127988\n",
       "excess_mortality_cumulative                127988\n",
       "excess_mortality                           127988\n",
       "excess_mortality_cumulative_per_million    127988\n",
       "dtype: int64"
      ]
     },
     "execution_count": 19,
     "metadata": {},
     "output_type": "execute_result"
    }
   ],
   "source": [
    "#count NaN \n",
    "df.isna().sum()"
   ]
  },
  {
   "cell_type": "markdown",
   "id": "369714cb",
   "metadata": {},
   "source": [
    "Result:\n",
    "- Each column contain NaN values \n"
   ]
  },
  {
   "cell_type": "code",
   "execution_count": 20,
   "id": "f01bd6dd",
   "metadata": {
    "id": "AxaeIYQJuHNK"
   },
   "outputs": [],
   "source": [
    "# replace NaN with 0\n",
    "df =df.fillna(0)\n"
   ]
  },
  {
   "cell_type": "markdown",
   "id": "06e8c98a",
   "metadata": {},
   "source": [
    "Result:\n",
    "- Replace NaN with zero becaue there should not be NaN values \n"
   ]
  },
  {
   "cell_type": "code",
   "execution_count": 21,
   "id": "7c7fe417",
   "metadata": {
    "colab": {
     "base_uri": "https://localhost:8080/"
    },
    "executionInfo": {
     "elapsed": 38,
     "status": "ok",
     "timestamp": 1636988379036,
     "user": {
      "displayName": "Arsalan Azhar",
      "photoUrl": "https://lh3.googleusercontent.com/a/default-user=s64",
      "userId": "03163103775440367043"
     },
     "user_tz": -300
    },
    "id": "qvoVA0f2uWtl",
    "outputId": "f0358b18-7b33-4d3e-d5b5-e8fb7066b6a7"
   },
   "outputs": [
    {
     "data": {
      "text/plain": [
       "total_cases                                0\n",
       "new_cases                                  0\n",
       "new_cases_smoothed                         0\n",
       "total_deaths                               0\n",
       "new_deaths                                 0\n",
       "new_deaths_smoothed                        0\n",
       "total_cases_per_million                    0\n",
       "new_cases_per_million                      0\n",
       "new_cases_smoothed_per_million             0\n",
       "total_deaths_per_million                   0\n",
       "new_deaths_per_million                     0\n",
       "new_deaths_smoothed_per_million            0\n",
       "reproduction_rate                          0\n",
       "icu_patients                               0\n",
       "icu_patients_per_million                   0\n",
       "hosp_patients                              0\n",
       "hosp_patients_per_million                  0\n",
       "weekly_icu_admissions                      0\n",
       "weekly_icu_admissions_per_million          0\n",
       "weekly_hosp_admissions                     0\n",
       "weekly_hosp_admissions_per_million         0\n",
       "new_tests                                  0\n",
       "total_tests                                0\n",
       "total_tests_per_thousand                   0\n",
       "new_tests_per_thousand                     0\n",
       "new_tests_smoothed                         0\n",
       "new_tests_smoothed_per_thousand            0\n",
       "positive_rate                              0\n",
       "tests_per_case                             0\n",
       "total_vaccinations                         0\n",
       "people_vaccinated                          0\n",
       "people_fully_vaccinated                    0\n",
       "total_boosters                             0\n",
       "new_vaccinations                           0\n",
       "new_vaccinations_smoothed                  0\n",
       "total_vaccinations_per_hundred             0\n",
       "people_vaccinated_per_hundred              0\n",
       "people_fully_vaccinated_per_hundred        0\n",
       "total_boosters_per_hundred                 0\n",
       "new_vaccinations_smoothed_per_million      0\n",
       "stringency_index                           0\n",
       "population                                 0\n",
       "population_density                         0\n",
       "median_age                                 0\n",
       "aged_65_older                              0\n",
       "aged_70_older                              0\n",
       "gdp_per_capita                             0\n",
       "extreme_poverty                            0\n",
       "cardiovasc_death_rate                      0\n",
       "diabetes_prevalence                        0\n",
       "female_smokers                             0\n",
       "male_smokers                               0\n",
       "handwashing_facilities                     0\n",
       "hospital_beds_per_thousand                 0\n",
       "life_expectancy                            0\n",
       "human_development_index                    0\n",
       "excess_mortality_cumulative_absolute       0\n",
       "excess_mortality_cumulative                0\n",
       "excess_mortality                           0\n",
       "excess_mortality_cumulative_per_million    0\n",
       "dtype: int64"
      ]
     },
     "execution_count": 21,
     "metadata": {},
     "output_type": "execute_result"
    }
   ],
   "source": [
    "#count NaN \n",
    "df.isna().sum()"
   ]
  },
  {
   "cell_type": "markdown",
   "id": "e435c3a6",
   "metadata": {},
   "source": [
    "Result:\n",
    "- After replacing NaN, there is no NaN values\n"
   ]
  },
  {
   "cell_type": "code",
   "execution_count": 22,
   "id": "9ad4a0d1",
   "metadata": {
    "colab": {
     "base_uri": "https://localhost:8080/"
    },
    "executionInfo": {
     "elapsed": 1638,
     "status": "ok",
     "timestamp": 1636988389783,
     "user": {
      "displayName": "Arsalan Azhar",
      "photoUrl": "https://lh3.googleusercontent.com/a/default-user=s64",
      "userId": "03163103775440367043"
     },
     "user_tz": -300
    },
    "id": "ZqIlyhdO2vpa",
    "outputId": "f4ed38f7-aa48-4bf2-8fc1-a0e19674fa01"
   },
   "outputs": [
    {
     "data": {
      "text/plain": [
       "18007.0"
      ]
     },
     "execution_count": 22,
     "metadata": {},
     "output_type": "execute_result"
    }
   ],
   "source": [
    "# checking the min and max values\n",
    "df['new_deaths'].max()"
   ]
  },
  {
   "cell_type": "markdown",
   "id": "cc57bc26",
   "metadata": {},
   "source": [
    "Result:\n",
    "- In a single day, 18007 is number maxium of deaths\n"
   ]
  },
  {
   "cell_type": "code",
   "execution_count": 23,
   "id": "2158c186",
   "metadata": {
    "colab": {
     "base_uri": "https://localhost:8080/"
    },
    "executionInfo": {
     "elapsed": 14,
     "status": "ok",
     "timestamp": 1636988390837,
     "user": {
      "displayName": "Arsalan Azhar",
      "photoUrl": "https://lh3.googleusercontent.com/a/default-user=s64",
      "userId": "03163103775440367043"
     },
     "user_tz": -300
    },
    "id": "WUwd1owK3QoC",
    "outputId": "de022d34-68eb-42f1-90de-7a291e2af94c"
   },
   "outputs": [
    {
     "data": {
      "text/plain": [
       "130561"
      ]
     },
     "execution_count": 23,
     "metadata": {},
     "output_type": "execute_result"
    }
   ],
   "source": [
    "# Max value at index\n",
    "df['new_deaths'].idxmax()"
   ]
  },
  {
   "cell_type": "markdown",
   "id": "99da7f69",
   "metadata": {},
   "source": [
    "Result:\n",
    "- Number of row in dataset which contains 18007 death per day \n"
   ]
  },
  {
   "cell_type": "code",
   "execution_count": 24,
   "id": "1996980e",
   "metadata": {
    "colab": {
     "base_uri": "https://localhost:8080/"
    },
    "executionInfo": {
     "elapsed": 14,
     "status": "ok",
     "timestamp": 1636988394421,
     "user": {
      "displayName": "Arsalan Azhar",
      "photoUrl": "https://lh3.googleusercontent.com/a/default-user=s64",
      "userId": "03163103775440367043"
     },
     "user_tz": -300
    },
    "id": "3mGvIMkP3XPE",
    "outputId": "905cd830-faf0-4211-a1e4-ad403646eb03"
   },
   "outputs": [
    {
     "data": {
      "text/plain": [
       "-1918.0"
      ]
     },
     "execution_count": 24,
     "metadata": {},
     "output_type": "execute_result"
    }
   ],
   "source": [
    "# min value\n",
    "df['new_deaths'].min()"
   ]
  },
  {
   "cell_type": "markdown",
   "id": "5e579953",
   "metadata": {},
   "source": [
    "Result:\n",
    "- In a single day, -1918 is minimum number of deaths but it is wrong. Because minimum death should be zero, not less than zero\n"
   ]
  },
  {
   "cell_type": "code",
   "execution_count": 25,
   "id": "717c8c4f",
   "metadata": {
    "colab": {
     "base_uri": "https://localhost:8080/"
    },
    "executionInfo": {
     "elapsed": 1022,
     "status": "ok",
     "timestamp": 1636988399679,
     "user": {
      "displayName": "Arsalan Azhar",
      "photoUrl": "https://lh3.googleusercontent.com/a/default-user=s64",
      "userId": "03163103775440367043"
     },
     "user_tz": -300
    },
    "id": "ES2PhF953e_I",
    "outputId": "851643ce-d9fe-47ac-a034-57b0e0ed53af"
   },
   "outputs": [
    {
     "data": {
      "text/plain": [
       "111824"
      ]
     },
     "execution_count": 25,
     "metadata": {},
     "output_type": "execute_result"
    }
   ],
   "source": [
    "# min value at index\n",
    "df['new_deaths'].idxmin()"
   ]
  },
  {
   "cell_type": "markdown",
   "id": "715efd2e",
   "metadata": {},
   "source": [
    "Result:\n",
    "- Number of row in dataset which contains -1918 death per day "
   ]
  },
  {
   "cell_type": "code",
   "execution_count": 26,
   "id": "030dc712",
   "metadata": {
    "colab": {
     "base_uri": "https://localhost:8080/"
    },
    "executionInfo": {
     "elapsed": 1587,
     "status": "ok",
     "timestamp": 1636988404213,
     "user": {
      "displayName": "Arsalan Azhar",
      "photoUrl": "https://lh3.googleusercontent.com/a/default-user=s64",
      "userId": "03163103775440367043"
     },
     "user_tz": -300
    },
    "id": "sMUeo1O_4Guw",
    "outputId": "84325c31-1eee-48a8-dbc0-fb7b67017714"
   },
   "outputs": [
    {
     "data": {
      "text/plain": [
       "124"
      ]
     },
     "execution_count": 26,
     "metadata": {},
     "output_type": "execute_result"
    }
   ],
   "source": [
    "# total number of negative values\n",
    "sum(n < 0 for n in df['new_deaths'].values.flatten())"
   ]
  },
  {
   "cell_type": "markdown",
   "id": "51f7e497",
   "metadata": {},
   "source": [
    "Result:\n",
    "- Total number of negative values in 'new_deaths'"
   ]
  },
  {
   "cell_type": "code",
   "execution_count": 27,
   "id": "eee03ece",
   "metadata": {
    "id": "qJO5CfVr4HSM"
   },
   "outputs": [],
   "source": [
    "# replace negative values to 0\n",
    "df['new_deaths']=df['new_deaths'].clip(lower=0)"
   ]
  },
  {
   "cell_type": "markdown",
   "id": "11c71c33",
   "metadata": {},
   "source": [
    "Result:\n",
    "- Replace the all the negative values in 'new_deaths' with 0"
   ]
  },
  {
   "cell_type": "code",
   "execution_count": 28,
   "id": "42ded312",
   "metadata": {
    "colab": {
     "base_uri": "https://localhost:8080/"
    },
    "executionInfo": {
     "elapsed": 10,
     "status": "ok",
     "timestamp": 1636988409558,
     "user": {
      "displayName": "Arsalan Azhar",
      "photoUrl": "https://lh3.googleusercontent.com/a/default-user=s64",
      "userId": "03163103775440367043"
     },
     "user_tz": -300
    },
    "id": "1Z7QO2Pt4jvU",
    "outputId": "2e9a8ccd-4fa3-44e8-c360-c6aad704b638"
   },
   "outputs": [
    {
     "data": {
      "text/plain": [
       "0"
      ]
     },
     "execution_count": 28,
     "metadata": {},
     "output_type": "execute_result"
    }
   ],
   "source": [
    "# again check total number of negative values\n",
    "sum(n < 0 for n in df['new_deaths'].values.flatten())"
   ]
  },
  {
   "cell_type": "markdown",
   "id": "4b6c55c3",
   "metadata": {},
   "source": [
    "Result:\n",
    "- Total number of negative values in 'new_deaths' after replacing with 0"
   ]
  },
  {
   "cell_type": "code",
   "execution_count": 29,
   "id": "e6a7b778",
   "metadata": {
    "id": "43cb240b"
   },
   "outputs": [],
   "source": [
    "# convert complete dataset to float\n",
    "df =df.astype(float)"
   ]
  },
  {
   "cell_type": "markdown",
   "id": "a043135b",
   "metadata": {},
   "source": [
    "Result:\n",
    "- Convert dataset to float data type for further used by Algorithms"
   ]
  },
  {
   "cell_type": "code",
   "execution_count": 30,
   "id": "15e39218",
   "metadata": {
    "id": "cb7f5bf1"
   },
   "outputs": [
    {
     "data": {
      "text/plain": [
       "total_cases                                float64\n",
       "new_cases                                  float64\n",
       "new_cases_smoothed                         float64\n",
       "total_deaths                               float64\n",
       "new_deaths                                 float64\n",
       "new_deaths_smoothed                        float64\n",
       "total_cases_per_million                    float64\n",
       "new_cases_per_million                      float64\n",
       "new_cases_smoothed_per_million             float64\n",
       "total_deaths_per_million                   float64\n",
       "new_deaths_per_million                     float64\n",
       "new_deaths_smoothed_per_million            float64\n",
       "reproduction_rate                          float64\n",
       "icu_patients                               float64\n",
       "icu_patients_per_million                   float64\n",
       "hosp_patients                              float64\n",
       "hosp_patients_per_million                  float64\n",
       "weekly_icu_admissions                      float64\n",
       "weekly_icu_admissions_per_million          float64\n",
       "weekly_hosp_admissions                     float64\n",
       "weekly_hosp_admissions_per_million         float64\n",
       "new_tests                                  float64\n",
       "total_tests                                float64\n",
       "total_tests_per_thousand                   float64\n",
       "new_tests_per_thousand                     float64\n",
       "new_tests_smoothed                         float64\n",
       "new_tests_smoothed_per_thousand            float64\n",
       "positive_rate                              float64\n",
       "tests_per_case                             float64\n",
       "total_vaccinations                         float64\n",
       "people_vaccinated                          float64\n",
       "people_fully_vaccinated                    float64\n",
       "total_boosters                             float64\n",
       "new_vaccinations                           float64\n",
       "new_vaccinations_smoothed                  float64\n",
       "total_vaccinations_per_hundred             float64\n",
       "people_vaccinated_per_hundred              float64\n",
       "people_fully_vaccinated_per_hundred        float64\n",
       "total_boosters_per_hundred                 float64\n",
       "new_vaccinations_smoothed_per_million      float64\n",
       "stringency_index                           float64\n",
       "population                                 float64\n",
       "population_density                         float64\n",
       "median_age                                 float64\n",
       "aged_65_older                              float64\n",
       "aged_70_older                              float64\n",
       "gdp_per_capita                             float64\n",
       "extreme_poverty                            float64\n",
       "cardiovasc_death_rate                      float64\n",
       "diabetes_prevalence                        float64\n",
       "female_smokers                             float64\n",
       "male_smokers                               float64\n",
       "handwashing_facilities                     float64\n",
       "hospital_beds_per_thousand                 float64\n",
       "life_expectancy                            float64\n",
       "human_development_index                    float64\n",
       "excess_mortality_cumulative_absolute       float64\n",
       "excess_mortality_cumulative                float64\n",
       "excess_mortality                           float64\n",
       "excess_mortality_cumulative_per_million    float64\n",
       "dtype: object"
      ]
     },
     "execution_count": 30,
     "metadata": {},
     "output_type": "execute_result"
    }
   ],
   "source": [
    "df.dtypes"
   ]
  },
  {
   "cell_type": "code",
   "execution_count": 31,
   "id": "7973d8d2",
   "metadata": {
    "id": "2e250ad3"
   },
   "outputs": [],
   "source": [
    "# handle NaN and infinite values\n",
    "df = df.reset_index()"
   ]
  },
  {
   "cell_type": "markdown",
   "id": "4b868163",
   "metadata": {},
   "source": [
    "Result:\n",
    "- Handle NaN value if there occur in dataset"
   ]
  },
  {
   "cell_type": "code",
   "execution_count": 32,
   "id": "0e29cfc8",
   "metadata": {
    "id": "186d8bc4"
   },
   "outputs": [],
   "source": [
    "# here save a column as our label or target-column\n",
    "target_col=np.array(df['new_deaths'])"
   ]
  },
  {
   "cell_type": "markdown",
   "id": "8db18e74",
   "metadata": {},
   "source": [
    "Result:\n",
    "- Set 'new_deaths' column as our target column because we are going to train an algorithm to predict the number new death which may be in near future."
   ]
  },
  {
   "cell_type": "code",
   "execution_count": 33,
   "id": "5812de6e",
   "metadata": {
    "colab": {
     "base_uri": "https://localhost:8080/"
    },
    "executionInfo": {
     "elapsed": 28,
     "status": "ok",
     "timestamp": 1636988423682,
     "user": {
      "displayName": "Arsalan Azhar",
      "photoUrl": "https://lh3.googleusercontent.com/a/default-user=s64",
      "userId": "03163103775440367043"
     },
     "user_tz": -300
    },
    "id": "59b892d4",
    "outputId": "babba9c9-0562-4323-8b8a-9fa8d15ecafb"
   },
   "outputs": [
    {
     "data": {
      "text/plain": [
       "(132644, 60)"
      ]
     },
     "execution_count": 33,
     "metadata": {},
     "output_type": "execute_result"
    }
   ],
   "source": [
    "# remove column\n",
    "df=df.drop('new_deaths', axis=1)\n",
    "df.shape"
   ]
  },
  {
   "cell_type": "markdown",
   "id": "0a82199f",
   "metadata": {},
   "source": [
    "Result:\n",
    "- Becaue this column is target column therefore we keep it 'Y' and other dataset to 'X'"
   ]
  },
  {
   "cell_type": "code",
   "execution_count": 34,
   "id": "567cc225",
   "metadata": {
    "id": "0cb80552"
   },
   "outputs": [],
   "source": [
    "df = df.reset_index()"
   ]
  },
  {
   "cell_type": "code",
   "execution_count": 35,
   "id": "2830614c",
   "metadata": {
    "colab": {
     "base_uri": "https://localhost:8080/"
    },
    "executionInfo": {
     "elapsed": 15,
     "status": "ok",
     "timestamp": 1636988425110,
     "user": {
      "displayName": "Arsalan Azhar",
      "photoUrl": "https://lh3.googleusercontent.com/a/default-user=s64",
      "userId": "03163103775440367043"
     },
     "user_tz": -300
    },
    "id": "6b610982",
    "outputId": "6136ddad-c423-4994-8522-b52fd488c292"
   },
   "outputs": [
    {
     "data": {
      "text/plain": [
       "(132644, 61)"
      ]
     },
     "execution_count": 35,
     "metadata": {},
     "output_type": "execute_result"
    }
   ],
   "source": [
    "#copy dataset for forther use\n",
    "mydataset2 = df;\n",
    "mydataset2.shape"
   ]
  },
  {
   "cell_type": "code",
   "execution_count": 36,
   "id": "e6d2aff8",
   "metadata": {
    "id": "3d4a0f29"
   },
   "outputs": [],
   "source": [
    "#saving dataset columns as list because we will use it for feature selection process\n",
    "mydataset_list=list(df.columns)"
   ]
  },
  {
   "cell_type": "code",
   "execution_count": 37,
   "id": "1c703fd5",
   "metadata": {
    "id": "8a4e7b9f"
   },
   "outputs": [],
   "source": [
    "#convert dataset into array\n",
    "mydataset=np.array(df)"
   ]
  },
  {
   "cell_type": "code",
   "execution_count": 38,
   "id": "484b910d",
   "metadata": {
    "id": "e412b7d3"
   },
   "outputs": [],
   "source": [
    "#copy dataset which is in watt and array form\n",
    "copy_mydataset=mydataset;\n"
   ]
  },
  {
   "cell_type": "code",
   "execution_count": 39,
   "id": "39158537",
   "metadata": {
    "id": "e559ad9a"
   },
   "outputs": [],
   "source": [
    "# split to 80% for training and 20% for testing \n",
    "mydataset_train, mydataset_test, target_col_train, target_col_test=train_test_split(mydataset,target_col, test_size=0.20, random_state=7)"
   ]
  },
  {
   "cell_type": "markdown",
   "id": "ba9e3efc",
   "metadata": {},
   "source": [
    "Result:\n",
    "- Split the dataset into train and test. "
   ]
  },
  {
   "cell_type": "code",
   "execution_count": 40,
   "id": "3c43d289",
   "metadata": {
    "colab": {
     "base_uri": "https://localhost:8080/"
    },
    "executionInfo": {
     "elapsed": 404,
     "status": "ok",
     "timestamp": 1636989273495,
     "user": {
      "displayName": "Arsalan Azhar",
      "photoUrl": "https://lh3.googleusercontent.com/a/default-user=s64",
      "userId": "03163103775440367043"
     },
     "user_tz": -300
    },
    "id": "3HzZ6remKSh1",
    "outputId": "a10eb475-e0e1-4247-c5cf-e9a2d53956d9"
   },
   "outputs": [
    {
     "name": "stdout",
     "output_type": "stream",
     "text": [
      "Training Features Shape: (106115, 61)\n",
      "Training Labels Shape: (106115,)\n",
      "Testing Features Shape: (26529, 61)\n",
      "Testing Labels Shape: (26529,)\n",
      "Dataset Shape: (132644, 61)\n"
     ]
    }
   ],
   "source": [
    "#print into of spliting data\n",
    "print('Training Features Shape:', mydataset_train.shape)\n",
    "print('Training Labels Shape:', target_col_train.shape)\n",
    "print('Testing Features Shape:', mydataset_test.shape)\n",
    "print('Testing Labels Shape:', target_col_test.shape)\n",
    "print('Dataset Shape:', mydataset.shape)"
   ]
  },
  {
   "cell_type": "code",
   "execution_count": null,
   "id": "ff9c95da",
   "metadata": {
    "colab": {
     "base_uri": "https://localhost:8080/"
    },
    "executionInfo": {
     "elapsed": 9410,
     "status": "ok",
     "timestamp": 1636989104939,
     "user": {
      "displayName": "Arsalan Azhar",
      "photoUrl": "https://lh3.googleusercontent.com/a/default-user=s64",
      "userId": "03163103775440367043"
     },
     "user_tz": -300
    },
    "id": "84f9f3e1",
    "outputId": "cb6568e6-efb9-4cc7-df1e-a5a29a5995be"
   },
   "outputs": [],
   "source": [
    "#............Fit Classifier....#\n",
    "nNNAC = KNeighborsClassifier(n_neighbors=20) \n",
    "nNNAC.fit(mydataset_train, target_col_train)\n"
   ]
  },
  {
   "cell_type": "markdown",
   "id": "ff082b78",
   "metadata": {},
   "source": [
    "Result:\n",
    "- Apply K Nearest Neighbor classifier with 'n_neighbors=20', we can update this hyperparameter value.\n",
    "- Train with training sample"
   ]
  },
  {
   "cell_type": "code",
   "execution_count": null,
   "id": "55d9e515",
   "metadata": {
    "id": "PSSoVf6wu_7D"
   },
   "outputs": [],
   "source": [
    "# predict at test data\n",
    "predictions1 = nNNAC.predict(mydataset_test)"
   ]
  },
  {
   "cell_type": "markdown",
   "id": "0ebbbd7a",
   "metadata": {},
   "source": [
    "Result:\n",
    "- Input unseen data to algorithm"
   ]
  },
  {
   "cell_type": "code",
   "execution_count": null,
   "id": "199c5e8a",
   "metadata": {
    "id": "ec2b6fa8"
   },
   "outputs": [],
   "source": [
    "# Plot of load forcasted by K-NN Classifier    \n",
    "plt.figure()\n",
    "plt.ylabel('Death');\n",
    "plt.xlabel('Days'); \n",
    "plt.plot(target_col_test,'-g',label='Actual'); \n",
    "plt.plot(predictions1,'-r',label='KNN')\n",
    "plt.title('Death_K-NN')\n",
    "plt.gca().set_xlim(left=1); plt.legend(fancybox=True, framealpha=0.5)\n",
    "plt.gca().legend(('Actual','KNN'));\n",
    "plt.savefig('DeathForecastingKNN.png',bbox_inches='tight',transparent='true')\n",
    "plt.show();"
   ]
  },
  {
   "cell_type": "code",
   "execution_count": null,
   "id": "8f09b802",
   "metadata": {
    "colab": {
     "base_uri": "https://localhost:8080/"
    },
    "executionInfo": {
     "elapsed": 628,
     "status": "ok",
     "timestamp": 1636989124460,
     "user": {
      "displayName": "Arsalan Azhar",
      "photoUrl": "https://lh3.googleusercontent.com/a/default-user=s64",
      "userId": "03163103775440367043"
     },
     "user_tz": -300
    },
    "id": "et9m9B1zJQfT",
    "outputId": "31b3df69-726d-41b0-9ce8-88092aa61b3c"
   },
   "outputs": [
    {
     "name": "stdout",
     "output_type": "stream",
     "text": [
      "0.4849787025519243\n"
     ]
    }
   ],
   "source": [
    "# evaluation matrices\n",
    "print(metrics.accuracy_score(target_col_test, predictions1))"
   ]
  },
  {
   "cell_type": "markdown",
   "id": "01bff9b0",
   "metadata": {},
   "source": [
    "Result:\n",
    "- Predicted Accuracy\n",
    "- Because dataset is very large and contains numerious number of eatures, therefore algorithm show low accuracy\n"
   ]
  },
  {
   "cell_type": "markdown",
   "id": "47d7aea4",
   "metadata": {
    "id": "8d56c543",
    "papermill": {
     "duration": 0.245593,
     "end_time": "2021-11-13T16:03:56.239566",
     "exception": false,
     "start_time": "2021-11-13T16:03:55.993973",
     "status": "completed"
    },
    "tags": []
   },
   "source": [
    "<a id=\"subsection-three\"></a>\n",
    "**<font color = Teal size = 4 >Summary</font>**"
   ]
  },
  {
   "cell_type": "markdown",
   "id": "6f6bd7ca",
   "metadata": {
    "id": "0b2cdd20",
    "papermill": {
     "duration": 0.243478,
     "end_time": "2021-11-13T16:03:56.732414",
     "exception": false,
     "start_time": "2021-11-13T16:03:56.488936",
     "status": "completed"
    },
    "tags": []
   },
   "source": [
    "**We lead dataset, analyse, generate a consize report, clean, pre-process, split into 80% and 20% ratio for algorithm training and testing, train K Nearest Neighbor algorithm, and evaluate the algorithm. It can also predict the number of upcomming new cases. This is beneficial for governemtn to predict the new cases and death and take appropriate action in order to overcome that figure**"
   ]
  }
 ],
 "metadata": {
  "colab": {
   "collapsed_sections": [],
   "name": "covid-19-analysis-plotly.ipynb",
   "provenance": []
  },
  "kernelspec": {
   "display_name": "Python 3",
   "language": "python",
   "name": "python3"
  },
  "language_info": {
   "codemirror_mode": {
    "name": "ipython",
    "version": 3
   },
   "file_extension": ".py",
   "mimetype": "text/x-python",
   "name": "python",
   "nbconvert_exporter": "python",
   "pygments_lexer": "ipython3",
   "version": "3.6.12"
  },
  "papermill": {
   "default_parameters": {},
   "duration": 75.675565,
   "end_time": "2021-11-13T16:04:03.798498",
   "environment_variables": {},
   "exception": null,
   "input_path": "__notebook__.ipynb",
   "output_path": "__notebook__.ipynb",
   "parameters": {},
   "start_time": "2021-11-13T16:02:48.122933",
   "version": "2.3.3"
  }
 },
 "nbformat": 4,
 "nbformat_minor": 5
}
